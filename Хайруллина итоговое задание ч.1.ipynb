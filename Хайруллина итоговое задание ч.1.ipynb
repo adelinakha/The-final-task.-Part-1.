{
 "cells": [
  {
   "cell_type": "code",
   "execution_count": 4,
   "id": "cdfca19d",
   "metadata": {},
   "outputs": [
    {
     "name": "stdout",
     "output_type": "stream",
     "text": [
      "    year    rating\n",
      "8   1957  4.014241\n",
      "23  1972  4.011136\n",
      "3   1952  4.000000\n",
      "5   1954  3.994220\n",
      "2   1951  3.983539\n",
      "..   ...       ...\n",
      "56  2005  3.448434\n",
      "54  2003  3.444777\n",
      "47  1996  3.426600\n",
      "48  1997  3.415764\n",
      "51  2000  3.356104\n",
      "\n",
      "[62 rows x 2 columns]\n"
     ]
    }
   ],
   "source": [
    "import pandas as pd\n",
    "\n",
    "# Загрузка данных из CSV-файла\n",
    "data = pd.read_csv('movies_stats.csv')\n",
    "\n",
    "# Создаем список годов с 1950 по 2010\n",
    "years = list(range(1950, 2011))\n",
    "\n",
    "# Функция для определения года выпуска фильма\n",
    "def production_year(title):\n",
    "    for year in years:\n",
    "        if str(year) in title:\n",
    "            return year\n",
    "    return 1900\n",
    "\n",
    "# Добавляем новый столбец 'year' в DataFrame, содержащий год выпуска фильма\n",
    "data['year'] = data['title'].apply(production_year)\n",
    "\n",
    "# Группируем по годам и считаем средний рейтинг\n",
    "average_ratings = data.groupby('year')['rating'].mean().reset_index()\n",
    "\n",
    "# Сортируем результат по убыванию рейтинга\n",
    "sorted_average_ratings = average_ratings.sort_values(by='rating', ascending=False)\n",
    "\n",
    "print(sorted_average_ratings)\n"
   ]
  },
  {
   "cell_type": "code",
   "execution_count": null,
   "id": "da6c857e",
   "metadata": {},
   "outputs": [],
   "source": []
  },
  {
   "cell_type": "code",
   "execution_count": null,
   "id": "3bba0779",
   "metadata": {},
   "outputs": [],
   "source": []
  },
  {
   "cell_type": "code",
   "execution_count": null,
   "id": "041fb987",
   "metadata": {},
   "outputs": [],
   "source": []
  }
 ],
 "metadata": {
  "kernelspec": {
   "display_name": "Python 3 (ipykernel)",
   "language": "python",
   "name": "python3"
  },
  "language_info": {
   "codemirror_mode": {
    "name": "ipython",
    "version": 3
   },
   "file_extension": ".py",
   "mimetype": "text/x-python",
   "name": "python",
   "nbconvert_exporter": "python",
   "pygments_lexer": "ipython3",
   "version": "3.11.4"
  }
 },
 "nbformat": 4,
 "nbformat_minor": 5
}
